{
 "cells": [
  {
   "cell_type": "code",
   "execution_count": 2,
   "id": "dated-house",
   "metadata": {},
   "outputs": [],
   "source": [
    "import pandas as pd\n",
    "import matplotlib.pyplot as plt\n",
    "import seaborn as sns\n",
    "import numpy as np\n",
    "from sklearn.model_selection import train_test_split\n",
    "from sklearn.ensemble import RandomForestClassifier\n",
    "from sklearn.model_selection import cross_val_score\n",
    "from sklearn.preprocessing import StandardScaler\n",
    "import warnings\n",
    "warnings.filterwarnings(\"ignore\")"
   ]
  },
  {
   "cell_type": "code",
   "execution_count": 4,
   "id": "impossible-registrar",
   "metadata": {},
   "outputs": [
    {
     "data": {
      "text/plain": [
       "(223, 121)"
      ]
     },
     "execution_count": 4,
     "metadata": {},
     "output_type": "execute_result"
    }
   ],
   "source": [
    "# filter clin\n",
    "clin = pd.read_csv('/Users/smasarone/Documents/Omics_datasets_integration/TCGA-PAAD.GDC_phenotype.csv', \n",
    "                   index_col=0, header=0)\n",
    "clin.shape"
   ]
  },
  {
   "cell_type": "code",
   "execution_count": 5,
   "id": "numeric-naples",
   "metadata": {},
   "outputs": [],
   "source": [
    "y = clin['vital_status.demographic']\n",
    "y = y.replace({\"Dead\":0, \"Alive\":1})\n",
    "#y.to_csv('label.csv')"
   ]
  },
  {
   "cell_type": "markdown",
   "id": "cae5ee01",
   "metadata": {},
   "source": [
    "### MAUI PAAD"
   ]
  },
  {
   "cell_type": "code",
   "execution_count": 9,
   "id": "174bfffe",
   "metadata": {},
   "outputs": [],
   "source": [
    "z = pd.read_csv('MAUI_z_PAAD.csv', index_col=0)\n",
    "y = clin['vital_status.demographic']\n",
    "y = y.filter(items = z.index, axis = 0)"
   ]
  },
  {
   "cell_type": "code",
   "execution_count": 10,
   "id": "0dd81b70",
   "metadata": {
    "scrolled": false
   },
   "outputs": [
    {
     "name": "stdout",
     "output_type": "stream",
     "text": [
      "0.5572072072072073 0.08337376937414964\n"
     ]
    }
   ],
   "source": [
    "rf= RandomForestClassifier(max_depth=4, random_state=0)\n",
    "scores_rf_emb_c = cross_val_score(rf, z, y, cv=5)\n",
    "print(np.mean(scores_rf_emb_c), np.std(scores_rf_emb_c))"
   ]
  },
  {
   "cell_type": "code",
   "execution_count": 11,
   "id": "590f66c4",
   "metadata": {},
   "outputs": [
    {
     "name": "stdout",
     "output_type": "stream",
     "text": [
      "0.5087833963994954 0.09563523338770037\n"
     ]
    }
   ],
   "source": [
    "rf= RandomForestClassifier(max_depth=4, random_state=0)\n",
    "scores_rf_emb_c = cross_val_score(rf, z, y, cv=5, scoring= 'roc_auc')\n",
    "print(np.mean(scores_rf_emb_c), np.std(scores_rf_emb_c))"
   ]
  },
  {
   "cell_type": "markdown",
   "id": "2de9b442",
   "metadata": {},
   "source": [
    "### MAUI BRCA survival"
   ]
  },
  {
   "cell_type": "code",
   "execution_count": 12,
   "id": "4465685b",
   "metadata": {},
   "outputs": [],
   "source": [
    "z = pd.read_csv('MAUI_z_BRCA_surv.csv', index_col=0)"
   ]
  },
  {
   "cell_type": "code",
   "execution_count": 13,
   "id": "71445ada",
   "metadata": {},
   "outputs": [
    {
     "name": "stdout",
     "output_type": "stream",
     "text": [
      "(787, 10)\n"
     ]
    },
    {
     "data": {
      "text/plain": [
       "(787,)"
      ]
     },
     "execution_count": 13,
     "metadata": {},
     "output_type": "execute_result"
    }
   ],
   "source": [
    "clin = pd.read_csv('/Users/smasarone/Documents/Omics_datasets_integration/BRCA_experiments/Integration_BRCA_data/All_clin_data.txt', \n",
    "                    index_col=0, sep = \"\\t\", header = 0)\n",
    "new_idx_clin=[]\n",
    "for i in clin.columns:\n",
    "    new_idx_clin.append(i.upper())\n",
    "clin.columns = new_idx_clin\n",
    "\n",
    "clin = clin.T\n",
    "y = clin.vital_status\n",
    "y = y.filter(items=z.index, axis = 0)\n",
    "print(z.shape)\n",
    "y.shape"
   ]
  },
  {
   "cell_type": "code",
   "execution_count": 14,
   "id": "372c451c",
   "metadata": {},
   "outputs": [
    {
     "name": "stdout",
     "output_type": "stream",
     "text": [
      "0.8665887285334193 0.003761478450625248\n"
     ]
    }
   ],
   "source": [
    "# Accuracy\n",
    "rf= RandomForestClassifier(max_depth=4, random_state=0)\n",
    "scores_rf_emb_c = cross_val_score(rf, z, y, cv=5)\n",
    "print(np.mean(scores_rf_emb_c), np.std(scores_rf_emb_c))"
   ]
  },
  {
   "cell_type": "code",
   "execution_count": 15,
   "id": "afdd26d0",
   "metadata": {},
   "outputs": [
    {
     "name": "stdout",
     "output_type": "stream",
     "text": [
      "0.4425942055654379 0.03628679294330437\n"
     ]
    }
   ],
   "source": [
    "#AUC\n",
    "rf= RandomForestClassifier(max_depth=4, random_state=0)\n",
    "scores_rf_emb_c = cross_val_score(rf, z, y, cv=5, scoring = 'roc_auc')\n",
    "print(np.mean(scores_rf_emb_c), np.std(scores_rf_emb_c))"
   ]
  },
  {
   "cell_type": "markdown",
   "id": "f171c021",
   "metadata": {},
   "source": [
    "### MAUI BRCA ER"
   ]
  },
  {
   "cell_type": "code",
   "execution_count": 16,
   "id": "cc0eb433",
   "metadata": {},
   "outputs": [],
   "source": [
    "z = pd.read_csv('MAUI_z_BRCA_ER.csv', index_col=0)"
   ]
  },
  {
   "cell_type": "code",
   "execution_count": 17,
   "id": "356dc838",
   "metadata": {},
   "outputs": [
    {
     "name": "stdout",
     "output_type": "stream",
     "text": [
      "0.7631053872664613 0.007133934034506427\n",
      "0.61546808196963 0.033719801647339655\n"
     ]
    }
   ],
   "source": [
    "y2 = clin.breast_carcinoma_estrogen_receptor_status\n",
    "y2 = y2.filter(items = z.index, axis = 0)\n",
    "#accuracy\n",
    "rf= RandomForestClassifier(max_depth=4, random_state=0)\n",
    "scores_rf_emb_c = cross_val_score(rf, z, y2, cv=5)\n",
    "print(np.mean(scores_rf_emb_c), np.std(scores_rf_emb_c))\n",
    "\n",
    "# AUC\n",
    "rf= RandomForestClassifier(max_depth=4, random_state=0)\n",
    "scores_rf_emb_c = cross_val_score(rf, z, y2, cv=5, scoring = 'roc_auc')\n",
    "print(np.mean(scores_rf_emb_c), np.std(scores_rf_emb_c))"
   ]
  },
  {
   "cell_type": "code",
   "execution_count": null,
   "id": "462d8887",
   "metadata": {},
   "outputs": [],
   "source": []
  }
 ],
 "metadata": {
  "kernelspec": {
   "display_name": "Python 3 (ipykernel)",
   "language": "python",
   "name": "python3"
  },
  "language_info": {
   "codemirror_mode": {
    "name": "ipython",
    "version": 3
   },
   "file_extension": ".py",
   "mimetype": "text/x-python",
   "name": "python",
   "nbconvert_exporter": "python",
   "pygments_lexer": "ipython3",
   "version": "3.10.6"
  }
 },
 "nbformat": 4,
 "nbformat_minor": 5
}
