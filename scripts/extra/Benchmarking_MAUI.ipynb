{
  "nbformat": 4,
  "nbformat_minor": 0,
  "metadata": {
    "colab": {
      "provenance": [],
      "collapsed_sections": []
    },
    "kernelspec": {
      "name": "python3",
      "display_name": "Python 3"
    },
    "language_info": {
      "name": "python"
    }
  },
  "cells": [
    {
      "cell_type": "code",
      "metadata": {
        "id": "01eYP0JsTpSv"
      },
      "source": [
        "#### COMPARE the predictions ####"
      ],
      "execution_count": 81,
      "outputs": []
    },
    {
      "cell_type": "code",
      "metadata": {
        "id": "HPePqTgsTql6"
      },
      "source": [
        "import maui"
      ],
      "execution_count": 82,
      "outputs": []
    },
    {
      "cell_type": "code",
      "metadata": {
        "id": "-hHPjbAhTzYK"
      },
      "source": [
        "import pandas as pd\n",
        "from sklearn import preprocessing\n",
        "from sklearn.decomposition import PCA\n",
        "\n",
        "import matplotlib.pyplot as plt\n",
        "import matplotlib.lines as mlines\n",
        "import seaborn as sns\n",
        "import maui.utils"
      ],
      "execution_count": 83,
      "outputs": []
    },
    {
      "cell_type": "code",
      "source": [
        "data1 = pd.read_csv('PAAD_methy_R.csv', index_col=0)\n",
        "data2 = pd.read_csv('PAAD_counts_R.csv', index_col=0)\n"
      ],
      "metadata": {
        "id": "qBBmjNClGVPM"
      },
      "execution_count": 84,
      "outputs": []
    },
    {
      "cell_type": "code",
      "source": [
        "label = pd.read_csv('label.csv', index_col=0)"
      ],
      "metadata": {
        "id": "OsCG8b8KHT7v"
      },
      "execution_count": 85,
      "outputs": []
    },
    {
      "cell_type": "code",
      "source": [
        "data2 = data2.filter(items= data1.index, axis =0)\n",
        "print(data2.shape)\n",
        "data1.shape"
      ],
      "metadata": {
        "colab": {
          "base_uri": "https://localhost:8080/"
        },
        "id": "uyL5YrYGILfz",
        "outputId": "151d562d-cbe2-40af-b6df-3c18e81fb77e"
      },
      "execution_count": 86,
      "outputs": [
        {
          "output_type": "stream",
          "name": "stdout",
          "text": [
            "(181, 8495)\n"
          ]
        },
        {
          "output_type": "execute_result",
          "data": {
            "text/plain": [
              "(181, 2393)"
            ]
          },
          "metadata": {},
          "execution_count": 86
        }
      ]
    },
    {
      "cell_type": "code",
      "source": [
        "maui_model = maui.Maui(n_hidden=[1300, 600], n_latent=10, epochs=100)\n",
        "%time z = maui_model.fit_transform({'methy': data1.T, 'counts': data2.T})"
      ],
      "metadata": {
        "colab": {
          "base_uri": "https://localhost:8080/"
        },
        "id": "V9TzLTdyHhRD",
        "outputId": "1cd83ba5-a96d-412d-f4d4-a6a4bf0de70d"
      },
      "execution_count": 87,
      "outputs": [
        {
          "output_type": "stream",
          "name": "stderr",
          "text": [
            "/usr/local/lib/python3.7/dist-packages/keras/engine/training_utils.py:819: UserWarning: Output reconstruction missing from loss dictionary. We assume this was done on purpose. The fit and evaluate APIs will not be expecting any data to be passed to reconstruction.\n",
            "  'be expecting any data to be passed to {0}.'.format(name))\n"
          ]
        },
        {
          "output_type": "stream",
          "name": "stdout",
          "text": [
            "CPU times: user 7min 48s, sys: 12 s, total: 8min\n",
            "Wall time: 4min 36s\n"
          ]
        }
      ]
    },
    {
      "cell_type": "code",
      "source": [
        "maui_model.hist.plot()"
      ],
      "metadata": {
        "colab": {
          "base_uri": "https://localhost:8080/",
          "height": 293
        },
        "id": "6XIDagofHzYP",
        "outputId": "9b2192ed-f881-484c-b4b1-6f0ff9c85688"
      },
      "execution_count": 88,
      "outputs": [
        {
          "output_type": "execute_result",
          "data": {
            "text/plain": [
              "<matplotlib.axes._subplots.AxesSubplot at 0x7f534e132590>"
            ]
          },
          "metadata": {},
          "execution_count": 88
        },
        {
          "output_type": "display_data",
          "data": {
            "text/plain": [
              "<Figure size 432x288 with 1 Axes>"
            ],
            "image/png": "[encoded data removed]"
          },
          "metadata": {
            "needs_background": "light"
          }
        }
      ]
    },
    {
      "cell_type": "code",
      "source": [
        "plt.scatter(pcs.loc[:,'PC1'], pcs.loc[:, 'PC2'])"
      ],
      "metadata": {
        "colab": {
          "base_uri": "https://localhost:8080/",
          "height": 282
        },
        "id": "RrpepkL0MBiT",
        "outputId": "a5944365-dd60-4707-a080-518c9c7120fd"
      },
      "execution_count": 89,
      "outputs": [
        {
          "output_type": "execute_result",
          "data": {
            "text/plain": [
              "<matplotlib.collections.PathCollection at 0x7f534e0a9290>"
            ]
          },
          "metadata": {},
          "execution_count": 89
        },
        {
          "output_type": "display_data",
          "data": {
            "text/plain": [
              "<Figure size 432x288 with 1 Axes>"
            ],
            "image/png": "[encoded data removed]"
          },
          "metadata": {
            "needs_background": "light"
          }
        }
      ]
    },
    {
      "cell_type": "code",
      "source": [
        "y = label.loc[:,'vital_status.demographic']"
      ],
      "metadata": {
        "id": "8KTnm4kArUaF"
      },
      "execution_count": 90,
      "outputs": []
    },
    {
      "cell_type": "code",
      "source": [
        "# export z and try to predict survival\n",
        "z.to_csv('MAUI_z_PAAD.csv')"
      ],
      "metadata": {
        "id": "Bmo3NyFsrg6t"
      },
      "execution_count": 92,
      "outputs": []
    },
    {
      "cell_type": "code",
      "source": [
        "### READ BRCA data survival\n",
        "m = pd.read_csv('methy_BRCA.csv', index_col = 0)\n",
        "c = pd.read_csv('BRCA_counts_R.csv', index_col = 0)\n",
        "\n",
        "print(m.shape)\n",
        "print(c.shape)\n",
        "\n",
        "maui_model = maui.Maui(n_hidden=[1300, 600], n_latent=10, epochs=100)\n",
        "%time z = maui_model.fit_transform({'methy': m.T, 'counts': c.T})"
      ],
      "metadata": {
        "colab": {
          "base_uri": "https://localhost:8080/"
        },
        "id": "10XkLBLdvtZJ",
        "outputId": "c49cd81b-04d8-4881-aa0e-5804a78bb094"
      },
      "execution_count": 99,
      "outputs": [
        {
          "output_type": "stream",
          "name": "stdout",
          "text": [
            "(787, 1312)\n",
            "(787, 16498)\n"
          ]
        },
        {
          "output_type": "stream",
          "name": "stderr",
          "text": [
            "/usr/local/lib/python3.7/dist-packages/keras/engine/training_utils.py:819: UserWarning: Output reconstruction missing from loss dictionary. We assume this was done on purpose. The fit and evaluate APIs will not be expecting any data to be passed to reconstruction.\n",
            "  'be expecting any data to be passed to {0}.'.format(name))\n"
          ]
        },
        {
          "output_type": "stream",
          "name": "stdout",
          "text": [
            "CPU times: user 48min 38s, sys: 51.6 s, total: 49min 30s\n",
            "Wall time: 27min 53s\n"
          ]
        }
      ]
    },
    {
      "cell_type": "code",
      "source": [
        "maui_model.hist.plot()"
      ],
      "metadata": {
        "colab": {
          "base_uri": "https://localhost:8080/",
          "height": 293
        },
        "id": "WRKLv-Uc2PgI",
        "outputId": "4f8f4ed6-fb04-4cfe-a2b4-7b9955f5bdda"
      },
      "execution_count": 100,
      "outputs": [
        {
          "output_type": "execute_result",
          "data": {
            "text/plain": [
              "<matplotlib.axes._subplots.AxesSubplot at 0x7f534c232190>"
            ]
          },
          "metadata": {},
          "execution_count": 100
        },
        {
          "output_type": "display_data",
          "data": {
            "text/plain": [
              "<Figure size 432x288 with 1 Axes>"
            ],
            "image/png": "[encoded data removed]"
          },
          "metadata": {
            "needs_background": "light"
          }
        }
      ]
    },
    {
      "cell_type": "code",
      "source": [
        "z.to_csv('MAUI_z_BRCA_surv.csv')"
      ],
      "metadata": {
        "id": "7Xv9IJKm7oQ4"
      },
      "execution_count": 102,
      "outputs": []
    },
    {
      "cell_type": "code",
      "source": [
        "#### IMPORTING data for the BRCA ER status\n",
        "\n",
        "c2 = pd.read_csv('MAUI_BRCA_ER_counts.csv', index_col = 0)\n",
        "m2 = pd.read_csv('MAUI_methy_ER.csv', index_col = 0)\n",
        "\n",
        "print(m2.shape)\n",
        "print(c2.shape)\n",
        "\n",
        "maui_model = maui.Maui(n_hidden=[1400, 600], n_latent=10, epochs=100)\n",
        "%time z = maui_model.fit_transform({'methy': m2.T, 'counts': c2.T})\n"
      ],
      "metadata": {
        "colab": {
          "base_uri": "https://localhost:8080/"
        },
        "id": "t7J-xV78B_YH",
        "outputId": "e93bb5b4-92ba-4804-b3aa-64bbf6d6cfbb"
      },
      "execution_count": null,
      "outputs": [
        {
          "output_type": "stream",
          "name": "stdout",
          "text": [
            "(743, 1323)\n",
            "(743, 16042)\n"
          ]
        },
        {
          "output_type": "stream",
          "name": "stderr",
          "text": [
            "/usr/local/lib/python3.7/dist-packages/keras/engine/training_utils.py:819: UserWarning: Output reconstruction missing from loss dictionary. We assume this was done on purpose. The fit and evaluate APIs will not be expecting any data to be passed to reconstruction.\n",
            "  'be expecting any data to be passed to {0}.'.format(name))\n"
          ]
        }
      ]
    },
    {
      "cell_type": "code",
      "source": [
        "maui_model.hist.plot()\n",
        "z.to_csv('MAUI_z_BRCA_ER.csv')"
      ],
      "metadata": {
        "id": "k2Li0K5RIDZq"
      },
      "execution_count": null,
      "outputs": []
    }
  ]
}